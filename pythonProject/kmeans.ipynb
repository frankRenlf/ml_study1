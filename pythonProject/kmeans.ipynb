{
 "cells": [
  {
   "cell_type": "code",
   "execution_count": 15,
   "metadata": {
    "collapsed": true
   },
   "outputs": [
    {
     "name": "stdout",
     "output_type": "stream",
     "text": [
      "(150, 4)\n"
     ]
    },
    {
     "name": "stderr",
     "output_type": "stream",
     "text": [
      "C:\\Users\\11195\\.virtualenvs\\11195-4sOGsGKT\\lib\\site-packages\\sklearn\\cluster\\_kmeans.py:870: FutureWarning: The default value of `n_init` will change from 10 to 'auto' in 1.4. Set the value of `n_init` explicitly to suppress the warning\n",
      "  warnings.warn(\n"
     ]
    },
    {
     "ename": "IndexError",
     "evalue": "index 1 is out of bounds for axis 1 with size 1",
     "output_type": "error",
     "traceback": [
      "\u001B[1;31m---------------------------------------------------------------------------\u001B[0m",
      "\u001B[1;31mIndexError\u001B[0m                                Traceback (most recent call last)",
      "Cell \u001B[1;32mIn[15], line 26\u001B[0m\n\u001B[0;32m     24\u001B[0m \u001B[38;5;66;03m# 未聚类前的数据分布图\u001B[39;00m\n\u001B[0;32m     25\u001B[0m plt\u001B[38;5;241m.\u001B[39msubplot(\u001B[38;5;241m121\u001B[39m)\n\u001B[1;32m---> 26\u001B[0m plt\u001B[38;5;241m.\u001B[39mscatter(X[:, \u001B[38;5;241m0\u001B[39m], \u001B[43mX\u001B[49m\u001B[43m[\u001B[49m\u001B[43m:\u001B[49m\u001B[43m,\u001B[49m\u001B[43m \u001B[49m\u001B[38;5;241;43m1\u001B[39;49m\u001B[43m]\u001B[49m, s\u001B[38;5;241m=\u001B[39m\u001B[38;5;241m50\u001B[39m)\n\u001B[0;32m     27\u001B[0m plt\u001B[38;5;241m.\u001B[39mxlabel(\u001B[38;5;124m'\u001B[39m\u001B[38;5;124m花萼长度\u001B[39m\u001B[38;5;124m'\u001B[39m)\n\u001B[0;32m     28\u001B[0m plt\u001B[38;5;241m.\u001B[39mylabel(\u001B[38;5;124m'\u001B[39m\u001B[38;5;124m花萼宽度\u001B[39m\u001B[38;5;124m'\u001B[39m)\n",
      "\u001B[1;31mIndexError\u001B[0m: index 1 is out of bounds for axis 1 with size 1"
     ]
    },
    {
     "data": {
      "text/plain": "<Figure size 640x480 with 1 Axes>",
      "image/png": "[encoded data removed]"
     },
     "metadata": {},
     "output_type": "display_data"
    }
   ],
   "source": [
    "import matplotlib.pyplot as plt\n",
    "import matplotlib\n",
    "from  sklearn.cluster import KMeans\n",
    "from sklearn.datasets import load_iris\n",
    "\n",
    "#设置 matplotlib rc配置文件\n",
    "matplotlib.rcParams['font.sans-serif'] = [u'SimHei'] # 用来设置字体样式以正常显示中文标签\n",
    "matplotlib.rcParams['axes.unicode_minus'] = False # 设置为 Fasle 来解决负号的乱码问题\n",
    "\n",
    "# 加载鸢尾花数据集\n",
    "# 数据的特征分别是 sepal length(花萼长度)、sepal width(花萼宽度)、petal length（花瓣长度）、petal width（花瓣宽度）\n",
    "iris = load_iris()\n",
    "print(iris.data.shape)\n",
    "X = iris.data[:, :2]  # 通过花萼的两个特征（长度和宽度）来聚类\n",
    "k = 3  # 假设聚类为 3 类，默认分为 8 个 簇\n",
    "# 构建算法模型\n",
    "km = KMeans(n_clusters=k) # n_clusters参数表示分成几个簇（此处k=3）\n",
    "km.fit(X)\n",
    "\n",
    "# 获取聚类后样本所属簇的对应编号（label_pred）\n",
    "label_pred = km.labels_  # labels_属性表示每个点的分簇号，会得到一个关于簇编号的数组\n",
    "centroids = km.cluster_centers_  #cluster_center 属性用来获取簇的质心点，得到一个关于质心的二维数组，形如[[x1,y1],[x2,y2],[x3,x3]]\n",
    "\n",
    "# 未聚类前的数据分布图\n",
    "plt.subplot(121)\n",
    "plt.scatter(X[:, 0], X[:, 1], s=50)\n",
    "plt.xlabel('花萼长度')\n",
    "plt.ylabel('花萼宽度')\n",
    "plt.title(\"未聚类之前\")\n",
    "# wspace 两个子图之间保留的空间宽度\n",
    "plt.subplots_adjust(wspace=0.5) # subplots_adjust（）用于调整边距和子图间距\n",
    "# 聚类后的分布图\n",
    "plt.subplot(122)\n",
    "# c：表示颜色和色彩序列，此处与 cmap 颜色映射一起使用（cool是颜色映射值）s表示散点的的大小，marker表示标记样式（散点样式）\n",
    "plt.scatter(X[:, 0], X[:, 1], c=label_pred, s=50, cmap='cool')\n",
    "# 绘制质心点\n",
    "plt.scatter(centroids[:,0],centroids[:,1],c='red',marker='o',s=100)\n",
    "plt.xlabel('花萼长度')\n",
    "plt.ylabel('花萼宽度')\n",
    "plt.title(\"K-Means算法聚类结果\")\n",
    "plt.show()\n",
    "print(X[:, 0])\n",
    "print(X[:, 1])"
   ]
  }
 ],
 "metadata": {
  "kernelspec": {
   "display_name": "Python 3",
   "language": "python",
   "name": "python3"
  },
  "language_info": {
   "codemirror_mode": {
    "name": "ipython",
    "version": 2
   },
   "file_extension": ".py",
   "mimetype": "text/x-python",
   "name": "python",
   "nbconvert_exporter": "python",
   "pygments_lexer": "ipython2",
   "version": "2.7.6"
  }
 },
 "nbformat": 4,
 "nbformat_minor": 0
}
