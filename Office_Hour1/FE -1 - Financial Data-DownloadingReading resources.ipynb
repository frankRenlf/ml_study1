{
 "cells": [
  {
   "cell_type": "code",
   "execution_count": 1,
   "metadata": {
    "ExecuteTime": {
     "end_time": "2020-01-29T10:48:06.120195Z",
     "start_time": "2020-01-29T10:48:05.814125Z"
    }
   },
   "outputs": [],
   "source": [
    "%matplotlib inline\n",
    "%config InlineBackend.figure_format = 'retina'"
   ]
  },
  {
   "cell_type": "code",
   "execution_count": 3,
   "metadata": {
    "ExecuteTime": {
     "end_time": "2020-01-29T10:48:13.141309Z",
     "start_time": "2020-01-29T10:48:13.137453Z"
    }
   },
   "outputs": [],
   "source": [
    "import matplotlib.pyplot as plt\n",
    "import warnings\n",
    "\n",
    "plt.style.use('seaborn')\n",
    "# plt.style.use('seaborn-colorblind') #alternative\n",
    "# plt.rcParams['figure.figsize'] = [16, 9]\n",
    "plt.rcParams['figure.dpi'] = 300\n",
    "warnings.simplefilter(action='ignore', category=FutureWarning)"
   ]
  },
  {
   "cell_type": "markdown",
   "metadata": {},
   "source": [
    "# Financial Data and Preprocessing "
   ]
  },
  {
   "cell_type": "markdown",
   "metadata": {},
   "source": [
    "## Getting data from Yahoo Finance"
   ]
  },
  {
   "cell_type": "markdown",
   "metadata": {},
   "source": [
    "1. Import the libraries:"
   ]
  },
  {
   "cell_type": "code",
   "execution_count": 1,
   "metadata": {
    "ExecuteTime": {
     "end_time": "2020-01-17T23:26:32.940680Z",
     "start_time": "2020-01-17T23:26:31.807352Z"
    }
   },
   "outputs": [],
   "source": [
    "import pandas as pd \n",
    "import yfinance as yf"
   ]
  },
  {
   "cell_type": "markdown",
   "metadata": {},
   "source": [
    "2. Download the data:"
   ]
  },
  {
   "cell_type": "code",
   "execution_count": 2,
   "metadata": {
    "ExecuteTime": {
     "end_time": "2020-01-17T23:26:33.877155Z",
     "start_time": "2020-01-17T23:26:33.576806Z"
    }
   },
   "outputs": [],
   "source": [
    "df_yahoo = yf.download('AAPL', \n",
    "                       start='2000-01-01', \n",
    "                       end='2010-12-31',\n",
    "                       progress=False)"
   ]
  },
  {
   "cell_type": "markdown",
   "metadata": {},
   "source": [
    "3. Inspect the data:"
   ]
  },
  {
   "cell_type": "code",
   "execution_count": 3,
   "metadata": {
    "ExecuteTime": {
     "end_time": "2020-01-17T23:26:38.561800Z",
     "start_time": "2020-01-17T23:26:38.541896Z"
    },
    "scrolled": true
   },
   "outputs": [
    {
     "name": "stdout",
     "output_type": "stream",
     "text": [
      "Downloaded 2767 rows of data.\n"
     ]
    },
    {
     "data": {
      "text/html": [
       "<div>\n",
       "<style scoped>\n",
       "    .dataframe tbody tr th:only-of-type {\n",
       "        vertical-align: middle;\n",
       "    }\n",
       "\n",
       "    .dataframe tbody tr th {\n",
       "        vertical-align: top;\n",
       "    }\n",
       "\n",
       "    .dataframe thead th {\n",
       "        text-align: right;\n",
       "    }\n",
       "</style>\n",
       "<table border=\"1\" class=\"dataframe\">\n",
       "  <thead>\n",
       "    <tr style=\"text-align: right;\">\n",
       "      <th></th>\n",
       "      <th>Open</th>\n",
       "      <th>High</th>\n",
       "      <th>Low</th>\n",
       "      <th>Close</th>\n",
       "      <th>Adj Close</th>\n",
       "      <th>Volume</th>\n",
       "    </tr>\n",
       "    <tr>\n",
       "      <th>Date</th>\n",
       "      <th></th>\n",
       "      <th></th>\n",
       "      <th></th>\n",
       "      <th></th>\n",
       "      <th></th>\n",
       "      <th></th>\n",
       "    </tr>\n",
       "  </thead>\n",
       "  <tbody>\n",
       "    <tr>\n",
       "      <th>1999-12-31</th>\n",
       "      <td>3.604911</td>\n",
       "      <td>3.674107</td>\n",
       "      <td>3.553571</td>\n",
       "      <td>3.671875</td>\n",
       "      <td>3.194901</td>\n",
       "      <td>40952800</td>\n",
       "    </tr>\n",
       "    <tr>\n",
       "      <th>2000-01-03</th>\n",
       "      <td>3.745536</td>\n",
       "      <td>4.017857</td>\n",
       "      <td>3.631696</td>\n",
       "      <td>3.997768</td>\n",
       "      <td>3.478462</td>\n",
       "      <td>133949200</td>\n",
       "    </tr>\n",
       "    <tr>\n",
       "      <th>2000-01-04</th>\n",
       "      <td>3.866071</td>\n",
       "      <td>3.950893</td>\n",
       "      <td>3.613839</td>\n",
       "      <td>3.660714</td>\n",
       "      <td>3.185191</td>\n",
       "      <td>128094400</td>\n",
       "    </tr>\n",
       "    <tr>\n",
       "      <th>2000-01-05</th>\n",
       "      <td>3.705357</td>\n",
       "      <td>3.948661</td>\n",
       "      <td>3.678571</td>\n",
       "      <td>3.714286</td>\n",
       "      <td>3.231803</td>\n",
       "      <td>194580400</td>\n",
       "    </tr>\n",
       "    <tr>\n",
       "      <th>2000-01-06</th>\n",
       "      <td>3.790179</td>\n",
       "      <td>3.821429</td>\n",
       "      <td>3.392857</td>\n",
       "      <td>3.392857</td>\n",
       "      <td>2.952128</td>\n",
       "      <td>191993200</td>\n",
       "    </tr>\n",
       "  </tbody>\n",
       "</table>\n",
       "</div>"
      ],
      "text/plain": [
       "                Open      High       Low     Close  Adj Close     Volume\n",
       "Date                                                                    \n",
       "1999-12-31  3.604911  3.674107  3.553571  3.671875   3.194901   40952800\n",
       "2000-01-03  3.745536  4.017857  3.631696  3.997768   3.478462  133949200\n",
       "2000-01-04  3.866071  3.950893  3.613839  3.660714   3.185191  128094400\n",
       "2000-01-05  3.705357  3.948661  3.678571  3.714286   3.231803  194580400\n",
       "2000-01-06  3.790179  3.821429  3.392857  3.392857   2.952128  191993200"
      ]
     },
     "execution_count": 3,
     "metadata": {},
     "output_type": "execute_result"
    }
   ],
   "source": [
    "print(f'Downloaded {df_yahoo.shape[0]} rows of data.')\n",
    "\n",
    "df_yahoo.head()"
   ]
  },
  {
   "cell_type": "markdown",
   "metadata": {},
   "source": [
    "## Getting data from Quandl "
   ]
  },
  {
   "cell_type": "markdown",
   "metadata": {},
   "source": [
    "1. Import the libraries:"
   ]
  },
  {
   "cell_type": "code",
   "execution_count": 4,
   "metadata": {
    "ExecuteTime": {
     "end_time": "2020-01-17T23:30:43.327777Z",
     "start_time": "2020-01-17T23:30:43.293840Z"
    }
   },
   "outputs": [],
   "source": [
    "import pandas as pd \n",
    "import quandl"
   ]
  },
  {
   "cell_type": "markdown",
   "metadata": {},
   "source": [
    "2. Authenticate using the personal API key:"
   ]
  },
  {
   "cell_type": "code",
   "execution_count": 34,
   "metadata": {
    "ExecuteTime": {
     "end_time": "2019-11-25T18:11:14.299274Z",
     "start_time": "2019-11-25T18:11:14.296279Z"
    }
   },
   "outputs": [],
   "source": [
    "QUANDL_KEY = '{key}' # replace {key} with your own API key  \n",
    "quandl.ApiConfig.api_key = QUANDL_KEY"
   ]
  },
  {
   "cell_type": "markdown",
   "metadata": {},
   "source": [
    "3. Download the data:"
   ]
  },
  {
   "cell_type": "code",
   "execution_count": 11,
   "metadata": {
    "ExecuteTime": {
     "end_time": "2019-11-25T18:03:25.212313Z",
     "start_time": "2019-11-25T18:03:22.971743Z"
    }
   },
   "outputs": [],
   "source": [
    "df_quandl = quandl.get(dataset='WIKI/AAPL',\n",
    "                       start_date='2000-01-01', \n",
    "                       end_date='2010-12-31')"
   ]
  },
  {
   "cell_type": "markdown",
   "metadata": {},
   "source": [
    "4. Inspect the data:"
   ]
  },
  {
   "cell_type": "code",
   "execution_count": 12,
   "metadata": {
    "ExecuteTime": {
     "end_time": "2019-11-25T18:03:25.713899Z",
     "start_time": "2019-11-25T18:03:25.695790Z"
    }
   },
   "outputs": [
    {
     "name": "stdout",
     "output_type": "stream",
     "text": [
      "Downloaded 2767 rows of data.\n"
     ]
    },
    {
     "data": {
      "text/html": [
       "<div>\n",
       "<style scoped>\n",
       "    .dataframe tbody tr th:only-of-type {\n",
       "        vertical-align: middle;\n",
       "    }\n",
       "\n",
       "    .dataframe tbody tr th {\n",
       "        vertical-align: top;\n",
       "    }\n",
       "\n",
       "    .dataframe thead th {\n",
       "        text-align: right;\n",
       "    }\n",
       "</style>\n",
       "<table border=\"1\" class=\"dataframe\">\n",
       "  <thead>\n",
       "    <tr style=\"text-align: right;\">\n",
       "      <th></th>\n",
       "      <th>Open</th>\n",
       "      <th>High</th>\n",
       "      <th>Low</th>\n",
       "      <th>Close</th>\n",
       "      <th>Volume</th>\n",
       "      <th>Ex-Dividend</th>\n",
       "      <th>Split Ratio</th>\n",
       "      <th>Adj. Open</th>\n",
       "      <th>Adj. High</th>\n",
       "      <th>Adj. Low</th>\n",
       "      <th>Adj. Close</th>\n",
       "      <th>Adj. Volume</th>\n",
       "    </tr>\n",
       "    <tr>\n",
       "      <th>Date</th>\n",
       "      <th></th>\n",
       "      <th></th>\n",
       "      <th></th>\n",
       "      <th></th>\n",
       "      <th></th>\n",
       "      <th></th>\n",
       "      <th></th>\n",
       "      <th></th>\n",
       "      <th></th>\n",
       "      <th></th>\n",
       "      <th></th>\n",
       "      <th></th>\n",
       "    </tr>\n",
       "  </thead>\n",
       "  <tbody>\n",
       "    <tr>\n",
       "      <th>2000-01-03</th>\n",
       "      <td>104.87</td>\n",
       "      <td>112.50</td>\n",
       "      <td>101.69</td>\n",
       "      <td>111.94</td>\n",
       "      <td>4783900.0</td>\n",
       "      <td>0.0</td>\n",
       "      <td>1.0</td>\n",
       "      <td>3.369314</td>\n",
       "      <td>3.614454</td>\n",
       "      <td>3.267146</td>\n",
       "      <td>3.596463</td>\n",
       "      <td>133949200.0</td>\n",
       "    </tr>\n",
       "    <tr>\n",
       "      <th>2000-01-04</th>\n",
       "      <td>108.25</td>\n",
       "      <td>110.62</td>\n",
       "      <td>101.19</td>\n",
       "      <td>102.50</td>\n",
       "      <td>4574800.0</td>\n",
       "      <td>0.0</td>\n",
       "      <td>1.0</td>\n",
       "      <td>3.477908</td>\n",
       "      <td>3.554053</td>\n",
       "      <td>3.251081</td>\n",
       "      <td>3.293170</td>\n",
       "      <td>128094400.0</td>\n",
       "    </tr>\n",
       "    <tr>\n",
       "      <th>2000-01-05</th>\n",
       "      <td>103.75</td>\n",
       "      <td>110.56</td>\n",
       "      <td>103.00</td>\n",
       "      <td>104.00</td>\n",
       "      <td>6949300.0</td>\n",
       "      <td>0.0</td>\n",
       "      <td>1.0</td>\n",
       "      <td>3.333330</td>\n",
       "      <td>3.552125</td>\n",
       "      <td>3.309234</td>\n",
       "      <td>3.341362</td>\n",
       "      <td>194580400.0</td>\n",
       "    </tr>\n",
       "    <tr>\n",
       "      <th>2000-01-06</th>\n",
       "      <td>106.12</td>\n",
       "      <td>107.00</td>\n",
       "      <td>95.00</td>\n",
       "      <td>95.00</td>\n",
       "      <td>6856900.0</td>\n",
       "      <td>0.0</td>\n",
       "      <td>1.0</td>\n",
       "      <td>3.409475</td>\n",
       "      <td>3.437748</td>\n",
       "      <td>3.052206</td>\n",
       "      <td>3.052206</td>\n",
       "      <td>191993200.0</td>\n",
       "    </tr>\n",
       "    <tr>\n",
       "      <th>2000-01-07</th>\n",
       "      <td>96.50</td>\n",
       "      <td>101.00</td>\n",
       "      <td>95.50</td>\n",
       "      <td>99.50</td>\n",
       "      <td>4113700.0</td>\n",
       "      <td>0.0</td>\n",
       "      <td>1.0</td>\n",
       "      <td>3.100399</td>\n",
       "      <td>3.244977</td>\n",
       "      <td>3.068270</td>\n",
       "      <td>3.196784</td>\n",
       "      <td>115183600.0</td>\n",
       "    </tr>\n",
       "  </tbody>\n",
       "</table>\n",
       "</div>"
      ],
      "text/plain": [
       "              Open    High     Low   Close     Volume  Ex-Dividend  \\\n",
       "Date                                                                 \n",
       "2000-01-03  104.87  112.50  101.69  111.94  4783900.0          0.0   \n",
       "2000-01-04  108.25  110.62  101.19  102.50  4574800.0          0.0   \n",
       "2000-01-05  103.75  110.56  103.00  104.00  6949300.0          0.0   \n",
       "2000-01-06  106.12  107.00   95.00   95.00  6856900.0          0.0   \n",
       "2000-01-07   96.50  101.00   95.50   99.50  4113700.0          0.0   \n",
       "\n",
       "            Split Ratio  Adj. Open  Adj. High  Adj. Low  Adj. Close  \\\n",
       "Date                                                                  \n",
       "2000-01-03          1.0   3.369314   3.614454  3.267146    3.596463   \n",
       "2000-01-04          1.0   3.477908   3.554053  3.251081    3.293170   \n",
       "2000-01-05          1.0   3.333330   3.552125  3.309234    3.341362   \n",
       "2000-01-06          1.0   3.409475   3.437748  3.052206    3.052206   \n",
       "2000-01-07          1.0   3.100399   3.244977  3.068270    3.196784   \n",
       "\n",
       "            Adj. Volume  \n",
       "Date                     \n",
       "2000-01-03  133949200.0  \n",
       "2000-01-04  128094400.0  \n",
       "2000-01-05  194580400.0  \n",
       "2000-01-06  191993200.0  \n",
       "2000-01-07  115183600.0  "
      ]
     },
     "execution_count": 12,
     "metadata": {},
     "output_type": "execute_result"
    }
   ],
   "source": [
    "print(f'Downloaded {df_quandl.shape[0]} rows of data.')\n",
    "\n",
    "df_quandl.head()"
   ]
  },
  {
   "cell_type": "markdown",
   "metadata": {},
   "source": [
    "## Getting data from Intrinio"
   ]
  },
  {
   "cell_type": "markdown",
   "metadata": {},
   "source": [
    "1. Import the libraries:"
   ]
  },
  {
   "cell_type": "code",
   "execution_count": 5,
   "metadata": {
    "ExecuteTime": {
     "end_time": "2020-01-18T13:01:52.376042Z",
     "start_time": "2020-01-18T13:01:52.017561Z"
    }
   },
   "outputs": [],
   "source": [
    "import intrinio_sdk\n",
    "import pandas as pd"
   ]
  },
  {
   "cell_type": "markdown",
   "metadata": {},
   "source": [
    "2. Authenticate using the personal API key and select the API:"
   ]
  },
  {
   "cell_type": "code",
   "execution_count": 6,
   "metadata": {
    "ExecuteTime": {
     "end_time": "2020-01-18T13:01:53.751757Z",
     "start_time": "2020-01-18T13:01:53.720336Z"
    }
   },
   "outputs": [],
   "source": [
    "intrinio_sdk.ApiClient().configuration.api_key['api_key'] = '{key}'  # replace {key} with your own API key  \n",
    "security_api = intrinio_sdk.SecurityApi()"
   ]
  },
  {
   "cell_type": "markdown",
   "metadata": {},
   "source": [
    "3. Request the data:"
   ]
  },
  {
   "cell_type": "code",
   "execution_count": 7,
   "metadata": {
    "ExecuteTime": {
     "end_time": "2020-01-18T13:01:56.623594Z",
     "start_time": "2020-01-18T13:01:54.658274Z"
    }
   },
   "outputs": [],
   "source": [
    "r = security_api.get_security_stock_prices(identifier='AAPL', \n",
    "                                           start_date='2000-01-01',\n",
    "                                           end_date='2010-12-31', \n",
    "                                           frequency='daily',\n",
    "                                           page_size=10000)"
   ]
  },
  {
   "cell_type": "markdown",
   "metadata": {},
   "source": [
    "4. Convert the results into a DataFrame:"
   ]
  },
  {
   "cell_type": "code",
   "execution_count": 8,
   "metadata": {
    "ExecuteTime": {
     "end_time": "2020-01-18T13:02:00.998268Z",
     "start_time": "2020-01-18T13:02:00.968257Z"
    }
   },
   "outputs": [],
   "source": [
    "response_list = [x.to_dict() for x in r.stock_prices]\n",
    "df_intrinio = pd.DataFrame(response_list).sort_values('date')\n",
    "df_intrinio.set_index('date', inplace=True)"
   ]
  },
  {
   "cell_type": "markdown",
   "metadata": {},
   "source": [
    "5. Inspect the data:"
   ]
  },
  {
   "cell_type": "code",
   "execution_count": 9,
   "metadata": {
    "ExecuteTime": {
     "end_time": "2020-01-18T13:02:04.423570Z",
     "start_time": "2020-01-18T13:02:04.409498Z"
    }
   },
   "outputs": [
    {
     "name": "stdout",
     "output_type": "stream",
     "text": [
      "Downloaded 2771 rows of data.\n"
     ]
    },
    {
     "data": {
      "text/html": [
       "<div>\n",
       "<style scoped>\n",
       "    .dataframe tbody tr th:only-of-type {\n",
       "        vertical-align: middle;\n",
       "    }\n",
       "\n",
       "    .dataframe tbody tr th {\n",
       "        vertical-align: top;\n",
       "    }\n",
       "\n",
       "    .dataframe thead th {\n",
       "        text-align: right;\n",
       "    }\n",
       "</style>\n",
       "<table border=\"1\" class=\"dataframe\">\n",
       "  <thead>\n",
       "    <tr style=\"text-align: right;\">\n",
       "      <th></th>\n",
       "      <th>intraperiod</th>\n",
       "      <th>frequency</th>\n",
       "      <th>open</th>\n",
       "      <th>high</th>\n",
       "      <th>low</th>\n",
       "      <th>close</th>\n",
       "      <th>volume</th>\n",
       "      <th>adj_open</th>\n",
       "      <th>adj_high</th>\n",
       "      <th>adj_low</th>\n",
       "      <th>adj_close</th>\n",
       "      <th>adj_volume</th>\n",
       "    </tr>\n",
       "    <tr>\n",
       "      <th>date</th>\n",
       "      <th></th>\n",
       "      <th></th>\n",
       "      <th></th>\n",
       "      <th></th>\n",
       "      <th></th>\n",
       "      <th></th>\n",
       "      <th></th>\n",
       "      <th></th>\n",
       "      <th></th>\n",
       "      <th></th>\n",
       "      <th></th>\n",
       "      <th></th>\n",
       "    </tr>\n",
       "  </thead>\n",
       "  <tbody>\n",
       "    <tr>\n",
       "      <th>2000-01-03</th>\n",
       "      <td>False</td>\n",
       "      <td>daily</td>\n",
       "      <td>104.87</td>\n",
       "      <td>112.50</td>\n",
       "      <td>101.69</td>\n",
       "      <td>111.94</td>\n",
       "      <td>4783900.0</td>\n",
       "      <td>3.258837</td>\n",
       "      <td>3.495940</td>\n",
       "      <td>3.160019</td>\n",
       "      <td>3.478538</td>\n",
       "      <td>133949200.0</td>\n",
       "    </tr>\n",
       "    <tr>\n",
       "      <th>2000-01-04</th>\n",
       "      <td>False</td>\n",
       "      <td>daily</td>\n",
       "      <td>108.25</td>\n",
       "      <td>110.62</td>\n",
       "      <td>101.19</td>\n",
       "      <td>102.50</td>\n",
       "      <td>4574800.0</td>\n",
       "      <td>3.363871</td>\n",
       "      <td>3.437519</td>\n",
       "      <td>3.144481</td>\n",
       "      <td>3.185190</td>\n",
       "      <td>128094400.0</td>\n",
       "    </tr>\n",
       "    <tr>\n",
       "      <th>2000-01-05</th>\n",
       "      <td>False</td>\n",
       "      <td>daily</td>\n",
       "      <td>103.75</td>\n",
       "      <td>110.56</td>\n",
       "      <td>103.00</td>\n",
       "      <td>104.00</td>\n",
       "      <td>6949300.0</td>\n",
       "      <td>3.224033</td>\n",
       "      <td>3.435654</td>\n",
       "      <td>3.200727</td>\n",
       "      <td>3.231802</td>\n",
       "      <td>194580400.0</td>\n",
       "    </tr>\n",
       "    <tr>\n",
       "      <th>2000-01-06</th>\n",
       "      <td>False</td>\n",
       "      <td>daily</td>\n",
       "      <td>106.12</td>\n",
       "      <td>107.00</td>\n",
       "      <td>95.00</td>\n",
       "      <td>95.00</td>\n",
       "      <td>6856900.0</td>\n",
       "      <td>3.297681</td>\n",
       "      <td>3.325027</td>\n",
       "      <td>2.952127</td>\n",
       "      <td>2.952127</td>\n",
       "      <td>191993200.0</td>\n",
       "    </tr>\n",
       "    <tr>\n",
       "      <th>2000-01-07</th>\n",
       "      <td>False</td>\n",
       "      <td>daily</td>\n",
       "      <td>96.50</td>\n",
       "      <td>101.00</td>\n",
       "      <td>95.50</td>\n",
       "      <td>99.50</td>\n",
       "      <td>4113700.0</td>\n",
       "      <td>2.998739</td>\n",
       "      <td>3.138577</td>\n",
       "      <td>2.967664</td>\n",
       "      <td>3.091965</td>\n",
       "      <td>115183600.0</td>\n",
       "    </tr>\n",
       "  </tbody>\n",
       "</table>\n",
       "</div>"
      ],
      "text/plain": [
       "            intraperiod frequency    open    high     low   close     volume  \\\n",
       "date                                                                           \n",
       "2000-01-03        False     daily  104.87  112.50  101.69  111.94  4783900.0   \n",
       "2000-01-04        False     daily  108.25  110.62  101.19  102.50  4574800.0   \n",
       "2000-01-05        False     daily  103.75  110.56  103.00  104.00  6949300.0   \n",
       "2000-01-06        False     daily  106.12  107.00   95.00   95.00  6856900.0   \n",
       "2000-01-07        False     daily   96.50  101.00   95.50   99.50  4113700.0   \n",
       "\n",
       "            adj_open  adj_high   adj_low  adj_close   adj_volume  \n",
       "date                                                              \n",
       "2000-01-03  3.258837  3.495940  3.160019   3.478538  133949200.0  \n",
       "2000-01-04  3.363871  3.437519  3.144481   3.185190  128094400.0  \n",
       "2000-01-05  3.224033  3.435654  3.200727   3.231802  194580400.0  \n",
       "2000-01-06  3.297681  3.325027  2.952127   2.952127  191993200.0  \n",
       "2000-01-07  2.998739  3.138577  2.967664   3.091965  115183600.0  "
      ]
     },
     "execution_count": 9,
     "metadata": {},
     "output_type": "execute_result"
    }
   ],
   "source": [
    "print(f'Downloaded {df_intrinio.shape[0]} rows of data.')\n",
    "\n",
    "df_intrinio.head()"
   ]
  }
 ],
 "metadata": {
  "kernelspec": {
   "display_name": "Python 3",
   "language": "python",
   "name": "python3"
  },
  "language_info": {
   "codemirror_mode": {
    "name": "ipython",
    "version": 3
   },
   "file_extension": ".py",
   "mimetype": "text/x-python",
   "name": "python",
   "nbconvert_exporter": "python",
   "pygments_lexer": "ipython3",
   "version": "3.8.3"
  },
  "toc": {
   "base_numbering": 1,
   "nav_menu": {},
   "number_sections": true,
   "sideBar": true,
   "skip_h1_title": false,
   "title_cell": "Table of Contents",
   "title_sidebar": "Contents",
   "toc_cell": false,
   "toc_position": {
    "height": "calc(100% - 180px)",
    "left": "10px",
    "top": "150px",
    "width": "342px"
   },
   "toc_section_display": true,
   "toc_window_display": true
  },
  "varInspector": {
   "cols": {
    "lenName": 16,
    "lenType": 16,
    "lenVar": 40
   },
   "kernels_config": {
    "python": {
     "delete_cmd_postfix": "",
     "delete_cmd_prefix": "del ",
     "library": "var_list.py",
     "varRefreshCmd": "print(var_dic_list())"
    },
    "r": {
     "delete_cmd_postfix": ") ",
     "delete_cmd_prefix": "rm(",
     "library": "var_list.r",
     "varRefreshCmd": "cat(var_dic_list()) "
    }
   },
   "types_to_exclude": [
    "module",
    "function",
    "builtin_function_or_method",
    "instance",
    "_Feature"
   ],
   "window_display": false
  }
 },
 "nbformat": 4,
 "nbformat_minor": 2
}
